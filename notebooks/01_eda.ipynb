{
 "cells": [
  {
   "cell_type": "code",
   "execution_count": 9,
   "id": "b2400bf8",
   "metadata": {},
   "outputs": [],
   "source": [
    "# standard inputs\n",
    "import pandas as pd\n",
    "import numpy as np\n",
    "import matplotlib.pyplot as plt\n",
    "import seaborn as sns\n",
    "from sklearn.model_selection import train_test_split\n",
    "\n",
    "\n",
    "sns.set(style='whitegrid')\n",
    "#plt.style.use('seaborn-vibrant')\n"
   ]
  },
  {
   "cell_type": "code",
   "execution_count": 3,
   "id": "7d5ad24a",
   "metadata": {},
   "outputs": [],
   "source": [
    "# Loading the raw dataset\n",
    "df = pd.read_csv('../data/raw/vgsales.csv')"
   ]
  },
  {
   "cell_type": "code",
   "execution_count": 4,
   "id": "486614b0",
   "metadata": {},
   "outputs": [
    {
     "name": "stdout",
     "output_type": "stream",
     "text": [
      "<class 'pandas.core.frame.DataFrame'>\n",
      "RangeIndex: 16719 entries, 0 to 16718\n",
      "Data columns (total 16 columns):\n",
      " #   Column           Non-Null Count  Dtype  \n",
      "---  ------           --------------  -----  \n",
      " 0   Name             16717 non-null  object \n",
      " 1   Platform         16719 non-null  object \n",
      " 2   Year_of_Release  16450 non-null  float64\n",
      " 3   Genre            16717 non-null  object \n",
      " 4   Publisher        16665 non-null  object \n",
      " 5   NA_Sales         16719 non-null  float64\n",
      " 6   EU_Sales         16719 non-null  float64\n",
      " 7   JP_Sales         16719 non-null  float64\n",
      " 8   Other_Sales      16719 non-null  float64\n",
      " 9   Global_Sales     16719 non-null  float64\n",
      " 10  Critic_Score     8137 non-null   float64\n",
      " 11  Critic_Count     8137 non-null   float64\n",
      " 12  User_Score       10015 non-null  object \n",
      " 13  User_Count       7590 non-null   float64\n",
      " 14  Developer        10096 non-null  object \n",
      " 15  Rating           9950 non-null   object \n",
      "dtypes: float64(9), object(7)\n",
      "memory usage: 2.0+ MB\n"
     ]
    }
   ],
   "source": [
    "# Display the first 5 rows of the DataFrame\n",
    "#print(df.head())\n",
    "\n",
    "# Display column names and their data types\n",
    "#print(\"\\nColumn Data Types:\")\n",
    "#print(df.dtypes)\n",
    "\n",
    "# Display the number of missing values per column\n",
    "#print(\"\\nMissing Values Per Column:\")\n",
    "#print(df.isnull().sum())\n",
    "\n",
    "df.info()"
   ]
  },
  {
   "cell_type": "markdown",
   "id": "b185a145",
   "metadata": {},
   "source": [
    "Column | Missing? | Notes\n",
    "Name | Yes (2) | Minor — we can drop these rows\n",
    "Platform | No | Good\n",
    "Year_of_Release | Yes (269) | Might be useful — we can fill or drop later\n",
    "Genre | Yes (2) | Small enough to drop\n",
    "Publisher | Yes (54) | Might be okay to drop or replace with \"Unknown\"\n",
    "Critic_Score, Critic_Count | ~51% missing | Not ideal, but we’ll explore\n",
    "User_Score | Lots missing + weird object type | We'll clean/convert\n",
    "User_Count | ~55% missing | Risky to use\n",
    "Developer | ~40% missing | Could drop\n",
    "Rating | ~40% missing | Could be useful (E, M, T, etc.) — we’ll decide"
   ]
  },
  {
   "cell_type": "markdown",
   "id": "c5cc5352",
   "metadata": {},
   "source": [
    "### Data Cleaning"
   ]
  },
  {
   "cell_type": "code",
   "execution_count": 5,
   "id": "b9a859d7",
   "metadata": {},
   "outputs": [
    {
     "name": "stdout",
     "output_type": "stream",
     "text": [
      "<class 'pandas.core.frame.DataFrame'>\n",
      "Index: 16448 entries, 0 to 16718\n",
      "Data columns (total 14 columns):\n",
      " #   Column           Non-Null Count  Dtype  \n",
      "---  ------           --------------  -----  \n",
      " 0   Name             16448 non-null  object \n",
      " 1   Platform         16448 non-null  object \n",
      " 2   Year_of_Release  16448 non-null  int64  \n",
      " 3   Genre            16448 non-null  object \n",
      " 4   Publisher        16448 non-null  object \n",
      " 5   NA_Sales         16448 non-null  float64\n",
      " 6   EU_Sales         16448 non-null  float64\n",
      " 7   JP_Sales         16448 non-null  float64\n",
      " 8   Other_Sales      16448 non-null  float64\n",
      " 9   Global_Sales     16448 non-null  float64\n",
      " 10  Critic_Score     7983 non-null   float64\n",
      " 11  Critic_Count     7983 non-null   float64\n",
      " 12  User_Score       7463 non-null   float64\n",
      " 13  Rating           16448 non-null  object \n",
      "dtypes: float64(8), int64(1), object(5)\n",
      "memory usage: 1.9+ MB\n"
     ]
    }
   ],
   "source": [
    "# Drop rows with missing critical values\n",
    "df = df.dropna(subset=['Name', 'Genre', 'Year_of_Release'])\n",
    "\n",
    "# Fill missing Publisher and Rating with \"Unknown\"\n",
    "df['Publisher'] = df['Publisher'].fillna('Unknown')\n",
    "df['Rating'] = df['Rating'].fillna('Unknown')\n",
    "\n",
    "# Convert Year to int\n",
    "df['Year_of_Release'] = df['Year_of_Release'].astype(int)\n",
    "\n",
    "# Convert User_Score to numeric (some are 'tbd')\n",
    "df['User_Score'] = pd.to_numeric(df['User_Score'], errors='coerce')\n",
    "\n",
    "# Drop columns that are too incomplete or not useful\n",
    "df = df.drop(columns=['User_Count', 'Developer'])\n",
    "\n",
    "# Check again\n",
    "df.info()\n"
   ]
  },
  {
   "cell_type": "markdown",
   "id": "a56befd5",
   "metadata": {},
   "source": [
    "### HIT, AVERAGE, OR FLOP"
   ]
  },
  {
   "cell_type": "code",
   "execution_count": 6,
   "id": "e526c5ca",
   "metadata": {},
   "outputs": [
    {
     "data": {
      "text/plain": [
       "Success_Level\n",
       "Average    8625\n",
       "Flop       5789\n",
       "Hit        2034\n",
       "Name: count, dtype: int64"
      ]
     },
     "execution_count": 6,
     "metadata": {},
     "output_type": "execute_result"
    }
   ],
   "source": [
    "def label_success(sales):\n",
    "    if sales > 1.0:\n",
    "        return 'Hit'\n",
    "    elif sales >= 0.1:\n",
    "        return 'Average'\n",
    "    else:\n",
    "        return 'Flop'\n",
    "\n",
    "# Create the new target column\n",
    "df['Success_Level'] = df['Global_Sales'].apply(label_success)\n",
    "\n",
    "# Check distribution\n",
    "df['Success_Level'].value_counts()\n"
   ]
  },
  {
   "cell_type": "markdown",
   "id": "d21fe6f7",
   "metadata": {},
   "source": [
    "### Selecting Feature for Modelling"
   ]
  },
  {
   "cell_type": "code",
   "execution_count": 7,
   "id": "ec6ee4ea",
   "metadata": {},
   "outputs": [],
   "source": [
    "# Drop unnecessary columns\n",
    "X = df[['Platform', 'Year_of_Release', 'Genre', 'Publisher', 'Critic_Score', 'Critic_Count', 'User_Score', 'Rating']]\n",
    "y = df['Success_Level']"
   ]
  },
  {
   "cell_type": "markdown",
   "id": "6957dff4",
   "metadata": {},
   "source": [
    "### Encode Categorical Variables\n",
    "Convert text features into numerical format using One-Hot Encoding"
   ]
  },
  {
   "cell_type": "code",
   "execution_count": 8,
   "id": "557edea8",
   "metadata": {},
   "outputs": [
    {
     "data": {
      "text/html": [
       "<div>\n",
       "<style scoped>\n",
       "    .dataframe tbody tr th:only-of-type {\n",
       "        vertical-align: middle;\n",
       "    }\n",
       "\n",
       "    .dataframe tbody tr th {\n",
       "        vertical-align: top;\n",
       "    }\n",
       "\n",
       "    .dataframe thead th {\n",
       "        text-align: right;\n",
       "    }\n",
       "</style>\n",
       "<table border=\"1\" class=\"dataframe\">\n",
       "  <thead>\n",
       "    <tr style=\"text-align: right;\">\n",
       "      <th></th>\n",
       "      <th>Year_of_Release</th>\n",
       "      <th>Critic_Score</th>\n",
       "      <th>Critic_Count</th>\n",
       "      <th>User_Score</th>\n",
       "      <th>Platform_3DO</th>\n",
       "      <th>Platform_3DS</th>\n",
       "      <th>Platform_DC</th>\n",
       "      <th>Platform_DS</th>\n",
       "      <th>Platform_GB</th>\n",
       "      <th>Platform_GBA</th>\n",
       "      <th>...</th>\n",
       "      <th>Publisher_mixi, Inc</th>\n",
       "      <th>Publisher_responDESIGN</th>\n",
       "      <th>Rating_E</th>\n",
       "      <th>Rating_E10+</th>\n",
       "      <th>Rating_EC</th>\n",
       "      <th>Rating_K-A</th>\n",
       "      <th>Rating_M</th>\n",
       "      <th>Rating_RP</th>\n",
       "      <th>Rating_T</th>\n",
       "      <th>Rating_Unknown</th>\n",
       "    </tr>\n",
       "  </thead>\n",
       "  <tbody>\n",
       "    <tr>\n",
       "      <th>0</th>\n",
       "      <td>2006</td>\n",
       "      <td>76.0</td>\n",
       "      <td>51.0</td>\n",
       "      <td>8.0</td>\n",
       "      <td>False</td>\n",
       "      <td>False</td>\n",
       "      <td>False</td>\n",
       "      <td>False</td>\n",
       "      <td>False</td>\n",
       "      <td>False</td>\n",
       "      <td>...</td>\n",
       "      <td>False</td>\n",
       "      <td>False</td>\n",
       "      <td>True</td>\n",
       "      <td>False</td>\n",
       "      <td>False</td>\n",
       "      <td>False</td>\n",
       "      <td>False</td>\n",
       "      <td>False</td>\n",
       "      <td>False</td>\n",
       "      <td>False</td>\n",
       "    </tr>\n",
       "    <tr>\n",
       "      <th>1</th>\n",
       "      <td>1985</td>\n",
       "      <td>NaN</td>\n",
       "      <td>NaN</td>\n",
       "      <td>NaN</td>\n",
       "      <td>False</td>\n",
       "      <td>False</td>\n",
       "      <td>False</td>\n",
       "      <td>False</td>\n",
       "      <td>False</td>\n",
       "      <td>False</td>\n",
       "      <td>...</td>\n",
       "      <td>False</td>\n",
       "      <td>False</td>\n",
       "      <td>False</td>\n",
       "      <td>False</td>\n",
       "      <td>False</td>\n",
       "      <td>False</td>\n",
       "      <td>False</td>\n",
       "      <td>False</td>\n",
       "      <td>False</td>\n",
       "      <td>True</td>\n",
       "    </tr>\n",
       "    <tr>\n",
       "      <th>2</th>\n",
       "      <td>2008</td>\n",
       "      <td>82.0</td>\n",
       "      <td>73.0</td>\n",
       "      <td>8.3</td>\n",
       "      <td>False</td>\n",
       "      <td>False</td>\n",
       "      <td>False</td>\n",
       "      <td>False</td>\n",
       "      <td>False</td>\n",
       "      <td>False</td>\n",
       "      <td>...</td>\n",
       "      <td>False</td>\n",
       "      <td>False</td>\n",
       "      <td>True</td>\n",
       "      <td>False</td>\n",
       "      <td>False</td>\n",
       "      <td>False</td>\n",
       "      <td>False</td>\n",
       "      <td>False</td>\n",
       "      <td>False</td>\n",
       "      <td>False</td>\n",
       "    </tr>\n",
       "    <tr>\n",
       "      <th>3</th>\n",
       "      <td>2009</td>\n",
       "      <td>80.0</td>\n",
       "      <td>73.0</td>\n",
       "      <td>8.0</td>\n",
       "      <td>False</td>\n",
       "      <td>False</td>\n",
       "      <td>False</td>\n",
       "      <td>False</td>\n",
       "      <td>False</td>\n",
       "      <td>False</td>\n",
       "      <td>...</td>\n",
       "      <td>False</td>\n",
       "      <td>False</td>\n",
       "      <td>True</td>\n",
       "      <td>False</td>\n",
       "      <td>False</td>\n",
       "      <td>False</td>\n",
       "      <td>False</td>\n",
       "      <td>False</td>\n",
       "      <td>False</td>\n",
       "      <td>False</td>\n",
       "    </tr>\n",
       "    <tr>\n",
       "      <th>4</th>\n",
       "      <td>1996</td>\n",
       "      <td>NaN</td>\n",
       "      <td>NaN</td>\n",
       "      <td>NaN</td>\n",
       "      <td>False</td>\n",
       "      <td>False</td>\n",
       "      <td>False</td>\n",
       "      <td>False</td>\n",
       "      <td>True</td>\n",
       "      <td>False</td>\n",
       "      <td>...</td>\n",
       "      <td>False</td>\n",
       "      <td>False</td>\n",
       "      <td>False</td>\n",
       "      <td>False</td>\n",
       "      <td>False</td>\n",
       "      <td>False</td>\n",
       "      <td>False</td>\n",
       "      <td>False</td>\n",
       "      <td>False</td>\n",
       "      <td>True</td>\n",
       "    </tr>\n",
       "  </tbody>\n",
       "</table>\n",
       "<p>5 rows × 631 columns</p>\n",
       "</div>"
      ],
      "text/plain": [
       "   Year_of_Release  Critic_Score  Critic_Count  User_Score  Platform_3DO  \\\n",
       "0             2006          76.0          51.0         8.0         False   \n",
       "1             1985           NaN           NaN         NaN         False   \n",
       "2             2008          82.0          73.0         8.3         False   \n",
       "3             2009          80.0          73.0         8.0         False   \n",
       "4             1996           NaN           NaN         NaN         False   \n",
       "\n",
       "   Platform_3DS  Platform_DC  Platform_DS  Platform_GB  Platform_GBA  ...  \\\n",
       "0         False        False        False        False         False  ...   \n",
       "1         False        False        False        False         False  ...   \n",
       "2         False        False        False        False         False  ...   \n",
       "3         False        False        False        False         False  ...   \n",
       "4         False        False        False         True         False  ...   \n",
       "\n",
       "   Publisher_mixi, Inc  Publisher_responDESIGN  Rating_E  Rating_E10+  \\\n",
       "0                False                   False      True        False   \n",
       "1                False                   False     False        False   \n",
       "2                False                   False      True        False   \n",
       "3                False                   False      True        False   \n",
       "4                False                   False     False        False   \n",
       "\n",
       "   Rating_EC  Rating_K-A  Rating_M  Rating_RP  Rating_T  Rating_Unknown  \n",
       "0      False       False     False      False     False           False  \n",
       "1      False       False     False      False     False            True  \n",
       "2      False       False     False      False     False           False  \n",
       "3      False       False     False      False     False           False  \n",
       "4      False       False     False      False     False            True  \n",
       "\n",
       "[5 rows x 631 columns]"
      ]
     },
     "execution_count": 8,
     "metadata": {},
     "output_type": "execute_result"
    }
   ],
   "source": [
    "# One-Hot Encode the categorical features\n",
    "X = pd.get_dummies(X, columns=['Platform', 'Genre', 'Publisher', 'Rating'], drop_first=True)\n",
    "\n",
    "# Check the new feature set\n",
    "X.head()"
   ]
  },
  {
   "cell_type": "markdown",
   "id": "9bd4ab47",
   "metadata": {},
   "source": [
    "### Train/Test Split\n",
    "Split the data into training and testing sets to prepare for model training\n"
   ]
  },
  {
   "cell_type": "code",
   "execution_count": null,
   "id": "b7651527",
   "metadata": {},
   "outputs": [
    {
     "name": "stdout",
     "output_type": "stream",
     "text": [
      "X_train shape: (13158, 631)\n",
      "X_test shape: (3290, 631)\n",
      "y_train shape: (13158,)\n",
      "y_test shape: (3290,)\n"
     ]
    }
   ],
   "source": [
    "# Split into 80% training, 20% testing\n",
    "X_train, X_test, y_train, y_test = train_test_split(\n",
    "    X, y, test_size=0.2, random_state=42, stratify=y\n",
    ")\n",
    "#stratify=y ensures that the split maintains the same proportion of classes in both training and testing sets.\n",
    "\n",
    "# Check shapes to verify\n",
    "print(f\"X_train shape: {X_train.shape}\")\n",
    "print(f\"X_test shape: {X_test.shape}\")\n",
    "print(f\"y_train shape: {y_train.shape}\")\n",
    "print(f\"y_test shape: {y_test.shape}\")\n"
   ]
  }
 ],
 "metadata": {
  "kernelspec": {
   "display_name": "venv",
   "language": "python",
   "name": "python3"
  },
  "language_info": {
   "codemirror_mode": {
    "name": "ipython",
    "version": 3
   },
   "file_extension": ".py",
   "mimetype": "text/x-python",
   "name": "python",
   "nbconvert_exporter": "python",
   "pygments_lexer": "ipython3",
   "version": "3.12.6"
  }
 },
 "nbformat": 4,
 "nbformat_minor": 5
}

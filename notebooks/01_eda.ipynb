{
 "cells": [
  {
   "cell_type": "code",
   "execution_count": 38,
   "id": "b2400bf8",
   "metadata": {},
   "outputs": [],
   "source": [
    "# standard inputs\n",
    "import pandas as pd\n",
    "import numpy as np\n",
    "import matplotlib.pyplot as plt\n",
    "import seaborn as sns\n",
    "\n",
    "\n",
    "sns.set(style='whitegrid')\n",
    "#plt.style.use('seaborn-vibrant')\n"
   ]
  },
  {
   "cell_type": "code",
   "execution_count": 39,
   "id": "7d5ad24a",
   "metadata": {},
   "outputs": [],
   "source": [
    "# Loading the raw dataset\n",
    "df = pd.read_csv('../data/raw/vgsales.csv')"
   ]
  },
  {
   "cell_type": "code",
   "execution_count": null,
   "id": "486614b0",
   "metadata": {},
   "outputs": [
    {
     "name": "stdout",
     "output_type": "stream",
     "text": [
      "\n",
      "Missing Values Per Column:\n",
      "Name                  2\n",
      "Platform              0\n",
      "Year_of_Release     269\n",
      "Genre                 2\n",
      "Publisher            54\n",
      "NA_Sales              0\n",
      "EU_Sales              0\n",
      "JP_Sales              0\n",
      "Other_Sales           0\n",
      "Global_Sales          0\n",
      "Critic_Score       8582\n",
      "Critic_Count       8582\n",
      "User_Score         6704\n",
      "User_Count         9129\n",
      "Developer          6623\n",
      "Rating             6769\n",
      "dtype: int64\n"
     ]
    }
   ],
   "source": [
    "# Display the first 5 rows of the DataFrame\n",
    "#print(df.head())\n",
    "\n",
    "# Display column names and their data types\n",
    "#print(\"\\nColumn Data Types:\")\n",
    "#print(df.dtypes)\n",
    "\n",
    "# Display the number of missing values per column\n",
    "#print(\"\\nMissing Values Per Column:\")\n",
    "#print(df.isnull().sum())\n",
    "\n",
    "df.info()"
   ]
  },
  {
   "cell_type": "markdown",
   "id": "b185a145",
   "metadata": {},
   "source": [
    "Column | Missing? | Notes\n",
    "Name | Yes (2) | Minor — we can drop these rows\n",
    "Platform | No | Good\n",
    "Year_of_Release | Yes (269) | Might be useful — we can fill or drop later\n",
    "Genre | Yes (2) | Small enough to drop\n",
    "Publisher | Yes (54) | Might be okay to drop or replace with \"Unknown\"\n",
    "Critic_Score, Critic_Count | ~51% missing | Not ideal, but we’ll explore\n",
    "User_Score | Lots missing + weird object type | We'll clean/convert\n",
    "User_Count | ~55% missing | Risky to use\n",
    "Developer | ~40% missing | Could drop\n",
    "Rating | ~40% missing | Could be useful (E, M, T, etc.) — we’ll decide"
   ]
  },
  {
   "cell_type": "code",
   "execution_count": null,
   "id": "b9a859d7",
   "metadata": {},
   "outputs": [
    {
     "name": "stdout",
     "output_type": "stream",
     "text": [
      "Name                  0\n",
      "Platform              0\n",
      "Year_of_Release       0\n",
      "Genre                 0\n",
      "Publisher             0\n",
      "NA_Sales              0\n",
      "EU_Sales              0\n",
      "JP_Sales              0\n",
      "Other_Sales           0\n",
      "Global_Sales          0\n",
      "Critic_Score       8465\n",
      "Critic_Count       8465\n",
      "User_Score         8985\n",
      "Rating                0\n",
      "dtype: int64\n"
     ]
    }
   ],
   "source": [
    "# Drop rows with missing critical values\n",
    "df = df.dropna(subset=['Name', 'Genre', 'Year_of_Release'])\n",
    "\n",
    "# Fill missing Publisher and Rating with \"Unknown\"\n",
    "df['Publisher'] = df['Publisher'].fillna('Unknown')\n",
    "df['Rating'] = df['Rating'].fillna('Unknown')\n",
    "\n",
    "# Convert Year to int\n",
    "df['Year_of_Release'] = df['Year_of_Release'].astype(int)\n",
    "\n",
    "# Convert User_Score to numeric (some are 'tbd')\n",
    "df['User_Score'] = pd.to_numeric(df['User_Score'], errors='coerce')\n",
    "\n",
    "# Drop columns that are too incomplete or not useful\n",
    "df = df.drop(columns=['User_Count', 'Developer'])\n",
    "\n",
    "# Check again\n",
    "df.info()\n"
   ]
  }
 ],
 "metadata": {
  "kernelspec": {
   "display_name": "venv",
   "language": "python",
   "name": "python3"
  },
  "language_info": {
   "codemirror_mode": {
    "name": "ipython",
    "version": 3
   },
   "file_extension": ".py",
   "mimetype": "text/x-python",
   "name": "python",
   "nbconvert_exporter": "python",
   "pygments_lexer": "ipython3",
   "version": "3.12.6"
  }
 },
 "nbformat": 4,
 "nbformat_minor": 5
}

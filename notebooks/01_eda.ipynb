{
 "cells": [
  {
   "cell_type": "code",
   "execution_count": null,
   "id": "b2400bf8",
   "metadata": {},
   "outputs": [],
   "source": [
    "# standard inputs\n",
    "import pandas as pd\n",
    "import numpy as np\n",
    "import matplotlib.pyplot as plt\n",
    "import seaborn as sns\n",
    "\n",
    "\n",
    "sns.set(style='whitegrid')\n",
    "#plt.style.use('seaborn-vibrant')\n"
   ]
  },
  {
   "cell_type": "code",
   "execution_count": null,
   "id": "7d5ad24a",
   "metadata": {},
   "outputs": [],
   "source": [
    "# Loading the raw dataset\n",
    "df = pd.read_csv('../data/raw/vgsales.csv')"
   ]
  },
  {
   "cell_type": "code",
   "execution_count": null,
   "id": "486614b0",
   "metadata": {},
   "outputs": [
    {
     "name": "stdout",
     "output_type": "stream",
     "text": [
      "<class 'pandas.core.frame.DataFrame'>\n",
      "RangeIndex: 16719 entries, 0 to 16718\n",
      "Data columns (total 16 columns):\n",
      " #   Column           Non-Null Count  Dtype  \n",
      "---  ------           --------------  -----  \n",
      " 0   Name             16717 non-null  object \n",
      " 1   Platform         16719 non-null  object \n",
      " 2   Year_of_Release  16450 non-null  float64\n",
      " 3   Genre            16717 non-null  object \n",
      " 4   Publisher        16665 non-null  object \n",
      " 5   NA_Sales         16719 non-null  float64\n",
      " 6   EU_Sales         16719 non-null  float64\n",
      " 7   JP_Sales         16719 non-null  float64\n",
      " 8   Other_Sales      16719 non-null  float64\n",
      " 9   Global_Sales     16719 non-null  float64\n",
      " 10  Critic_Score     8137 non-null   float64\n",
      " 11  Critic_Count     8137 non-null   float64\n",
      " 12  User_Score       10015 non-null  object \n",
      " 13  User_Count       7590 non-null   float64\n",
      " 14  Developer        10096 non-null  object \n",
      " 15  Rating           9950 non-null   object \n",
      "dtypes: float64(9), object(7)\n",
      "memory usage: 2.0+ MB\n"
     ]
    }
   ],
   "source": [
    "# Display the first 5 rows of the DataFrame\n",
    "#print(df.head())\n",
    "\n",
    "# Display column names and their data types\n",
    "#print(\"\\nColumn Data Types:\")\n",
    "#print(df.dtypes)\n",
    "\n",
    "# Display the number of missing values per column\n",
    "#print(\"\\nMissing Values Per Column:\")\n",
    "#print(df.isnull().sum())\n",
    "\n",
    "df.info()"
   ]
  },
  {
   "cell_type": "markdown",
   "id": "b185a145",
   "metadata": {},
   "source": [
    "Column | Missing? | Notes\n",
    "Name | Yes (2) | Minor — we can drop these rows\n",
    "Platform | No | Good\n",
    "Year_of_Release | Yes (269) | Might be useful — we can fill or drop later\n",
    "Genre | Yes (2) | Small enough to drop\n",
    "Publisher | Yes (54) | Might be okay to drop or replace with \"Unknown\"\n",
    "Critic_Score, Critic_Count | ~51% missing | Not ideal, but we’ll explore\n",
    "User_Score | Lots missing + weird object type | We'll clean/convert\n",
    "User_Count | ~55% missing | Risky to use\n",
    "Developer | ~40% missing | Could drop\n",
    "Rating | ~40% missing | Could be useful (E, M, T, etc.) — we’ll decide"
   ]
  },
  {
   "cell_type": "markdown",
   "id": "c5cc5352",
   "metadata": {},
   "source": [
    "### Data Cleaning"
   ]
  },
  {
   "cell_type": "code",
   "execution_count": null,
   "id": "b9a859d7",
   "metadata": {},
   "outputs": [
    {
     "name": "stdout",
     "output_type": "stream",
     "text": [
      "<class 'pandas.core.frame.DataFrame'>\n",
      "Index: 16448 entries, 0 to 16718\n",
      "Data columns (total 14 columns):\n",
      " #   Column           Non-Null Count  Dtype  \n",
      "---  ------           --------------  -----  \n",
      " 0   Name             16448 non-null  object \n",
      " 1   Platform         16448 non-null  object \n",
      " 2   Year_of_Release  16448 non-null  int64  \n",
      " 3   Genre            16448 non-null  object \n",
      " 4   Publisher        16448 non-null  object \n",
      " 5   NA_Sales         16448 non-null  float64\n",
      " 6   EU_Sales         16448 non-null  float64\n",
      " 7   JP_Sales         16448 non-null  float64\n",
      " 8   Other_Sales      16448 non-null  float64\n",
      " 9   Global_Sales     16448 non-null  float64\n",
      " 10  Critic_Score     7983 non-null   float64\n",
      " 11  Critic_Count     7983 non-null   float64\n",
      " 12  User_Score       7463 non-null   float64\n",
      " 13  Rating           16448 non-null  object \n",
      "dtypes: float64(8), int64(1), object(5)\n",
      "memory usage: 1.9+ MB\n"
     ]
    }
   ],
   "source": [
    "# Drop rows with missing critical values\n",
    "df = df.dropna(subset=['Name', 'Genre', 'Year_of_Release'])\n",
    "\n",
    "# Fill missing Publisher and Rating with \"Unknown\"\n",
    "df['Publisher'] = df['Publisher'].fillna('Unknown')\n",
    "df['Rating'] = df['Rating'].fillna('Unknown')\n",
    "\n",
    "# Convert Year to int\n",
    "df['Year_of_Release'] = df['Year_of_Release'].astype(int)\n",
    "\n",
    "# Convert User_Score to numeric (some are 'tbd')\n",
    "df['User_Score'] = pd.to_numeric(df['User_Score'], errors='coerce')\n",
    "\n",
    "# Drop columns that are too incomplete or not useful\n",
    "df = df.drop(columns=['User_Count', 'Developer'])\n",
    "\n",
    "# Check again\n",
    "df.info()\n"
   ]
  },
  {
   "cell_type": "markdown",
   "id": "a56befd5",
   "metadata": {},
   "source": [
    "### HIT, AVERAGE, OR FLOP"
   ]
  },
  {
   "cell_type": "code",
   "execution_count": null,
   "id": "e526c5ca",
   "metadata": {},
   "outputs": [
    {
     "data": {
      "text/plain": [
       "Success_Level\n",
       "Average    8625\n",
       "Flop       5789\n",
       "Hit        2034\n",
       "Name: count, dtype: int64"
      ]
     },
     "execution_count": 5,
     "metadata": {},
     "output_type": "execute_result"
    }
   ],
   "source": [
    "def label_success(sales):\n",
    "    if sales > 1.0:\n",
    "        return 'Hit'\n",
    "    elif sales >= 0.1:\n",
    "        return 'Average'\n",
    "    else:\n",
    "        return 'Flop'\n",
    "\n",
    "# Create the new target column\n",
    "df['Success_Level'] = df['Global_Sales'].apply(label_success)\n",
    "\n",
    "# Check distribution\n",
    "df['Success_Level'].value_counts()\n"
   ]
  },
  {
   "cell_type": "markdown",
   "id": "d21fe6f7",
   "metadata": {},
   "source": [
    "### Selecting Feature for Modelling"
   ]
  },
  {
   "cell_type": "code",
   "execution_count": null,
   "id": "ec6ee4ea",
   "metadata": {},
   "outputs": [
    {
     "name": "stdout",
     "output_type": "stream",
     "text": [
      "<class 'pandas.core.frame.DataFrame'>\n",
      "Index: 16448 entries, 0 to 16718\n",
      "Data columns (total 8 columns):\n",
      " #   Column           Non-Null Count  Dtype  \n",
      "---  ------           --------------  -----  \n",
      " 0   Platform         16448 non-null  object \n",
      " 1   Year_of_Release  16448 non-null  int64  \n",
      " 2   Genre            16448 non-null  object \n",
      " 3   Publisher        16448 non-null  object \n",
      " 4   Critic_Score     7983 non-null   float64\n",
      " 5   Critic_Count     7983 non-null   float64\n",
      " 6   User_Score       7463 non-null   float64\n",
      " 7   Rating           16448 non-null  object \n",
      "dtypes: float64(3), int64(1), object(4)\n",
      "memory usage: 1.1+ MB\n"
     ]
    }
   ],
   "source": [
    "# Drop unnecessary columns\n",
    "X = df[['Platform', 'Year_of_Release', 'Genre', 'Publisher', 'Critic_Score', 'Critic_Count', 'User_Score', 'Rating']]\n",
    "y = df['Success_Level']"
   ]
  },
  {
   "cell_type": "markdown",
   "id": "6957dff4",
   "metadata": {},
   "source": [
    "### Encode Categorical Variables\n",
    "Convert text features into numerical format using One-Hot Encoding"
   ]
  },
  {
   "cell_type": "code",
   "execution_count": null,
   "id": "557edea8",
   "metadata": {},
   "outputs": [
    {
     "ename": "NameError",
     "evalue": "name 'pd' is not defined",
     "output_type": "error",
     "traceback": [
      "\u001b[31m---------------------------------------------------------------------------\u001b[39m",
      "\u001b[31mNameError\u001b[39m                                 Traceback (most recent call last)",
      "\u001b[36mCell\u001b[39m\u001b[36m \u001b[39m\u001b[32mIn[1]\u001b[39m\u001b[32m, line 2\u001b[39m\n\u001b[32m      1\u001b[39m \u001b[38;5;66;03m# One-Hot Encode the categorical features\u001b[39;00m\n\u001b[32m----> \u001b[39m\u001b[32m2\u001b[39m X = \u001b[43mpd\u001b[49m.get_dummies(X, columns=[\u001b[33m'\u001b[39m\u001b[33mPlatform\u001b[39m\u001b[33m'\u001b[39m, \u001b[33m'\u001b[39m\u001b[33mGenre\u001b[39m\u001b[33m'\u001b[39m, \u001b[33m'\u001b[39m\u001b[33mPublisher\u001b[39m\u001b[33m'\u001b[39m, \u001b[33m'\u001b[39m\u001b[33mRating\u001b[39m\u001b[33m'\u001b[39m], drop_first=\u001b[38;5;28;01mTrue\u001b[39;00m)\n\u001b[32m      4\u001b[39m \u001b[38;5;66;03m# Check the new feature set\u001b[39;00m\n\u001b[32m      5\u001b[39m X.head()\n",
      "\u001b[31mNameError\u001b[39m: name 'pd' is not defined"
     ]
    }
   ],
   "source": [
    "# One-Hot Encode the categorical features\n",
    "X = pd.get_dummies(X, columns=['Platform', 'Genre', 'Publisher', 'Rating'], drop_first=True)\n",
    "\n",
    "# Check the new feature set\n",
    "X.head()"
   ]
  }
 ],
 "metadata": {
  "kernelspec": {
   "display_name": "venv",
   "language": "python",
   "name": "python3"
  },
  "language_info": {
   "codemirror_mode": {
    "name": "ipython",
    "version": 3
   },
   "file_extension": ".py",
   "mimetype": "text/x-python",
   "name": "python",
   "nbconvert_exporter": "python",
   "pygments_lexer": "ipython3",
   "version": "3.12.6"
  }
 },
 "nbformat": 4,
 "nbformat_minor": 5
}
